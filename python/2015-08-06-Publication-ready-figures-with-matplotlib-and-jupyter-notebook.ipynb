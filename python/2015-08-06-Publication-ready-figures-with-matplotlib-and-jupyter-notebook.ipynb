{
 "cells": [
  {
   "cell_type": "markdown",
   "metadata": {
    "collapsed": false
   },
   "source": [
    "# Publication ready figures with matplotlib and Jupyter notebook"
   ]
  },
  {
   "cell_type": "markdown",
   "metadata": {},
   "source": [
    "A very convenient workflow to analyze data and create figures that can be used in various ways for publication is to use the [IPython Notebook](https://ipython.org/notebook.html) or [Jupyer notebook](https://jupyter.org/) in combination with [matplotlib](http://matplotlib.org/). I faced the problem that one often needs different file formats for different kind of publications, such as on a webpage or in a paper. For instance, to put the figure on a webpage, most softwares support only png or jpg formats, so that a fixed resolution must be provided. On the other hand, a scalable figure format can be scaled as needed and when putting it into a pdf document, there won't be artifacts when zooming into the figure. In this blog post, I'll provide a small function that saves the matplotlib figure to various file formats, which can then be used where needed."
   ]
  },
  {
   "cell_type": "markdown",
   "metadata": {},
   "source": [
    "## Creating a simple plot"
   ]
  },
  {
   "cell_type": "markdown",
   "metadata": {},
   "source": [
    "A simple plot can be created within an ipython notebook with:\n",
    "\n",
    "* Loading matplotlib and setting up ipython notebook to display the graphics inline:"
   ]
  },
  {
   "cell_type": "code",
   "execution_count": 1,
   "metadata": {
    "collapsed": true
   },
   "outputs": [],
   "source": [
    "%matplotlib inline\n",
    "import seaborn as snb\n",
    "import numpy as np\n",
    "import matplotlib.pyplot as plt"
   ]
  },
  {
   "cell_type": "markdown",
   "metadata": {},
   "source": [
    "* Creating a quatratic plot:"
   ]
  },
  {
   "cell_type": "code",
   "execution_count": 2,
   "metadata": {
    "collapsed": false
   },
   "outputs": [
    {
     "name": "stderr",
     "output_type": "stream",
     "text": [
      "/home/tomspur/python_path/matplotlib/tight_layout.py:257: UserWarning: This figure includes Axes that are not compatible with tight_layout, so its results might be incorrect.\n",
      "  warnings.warn(\"This figure includes Axes that are not \"\n"
     ]
    },
    {
     "data": {
      "image/png": "[encoded data removed]",
      "text/plain": [
       "<matplotlib.figure.Figure at 0x7efe466fa090>"
      ]
     },
     "metadata": {},
     "output_type": "display_data"
    }
   ],
   "source": [
    "def create_plot():\n",
    "    x = np.arange(0.0, 10.0, 0.1)\n",
    "    plt.plot(x, x**2)\n",
    "    plt.xlabel(\"$x$\")\n",
    "    plt.ylabel(\"$y=x^2$\")\n",
    "    \n",
    "create_plot()\n",
    "plt.show()"
   ]
  },
  {
   "cell_type": "markdown",
   "metadata": {},
   "source": [
    "## Save the figure"
   ]
  },
  {
   "cell_type": "markdown",
   "metadata": {},
   "source": [
    "The previous figure can be saved with calling [matplotlib.pyplot.savefig](http://matplotlib.org/api/pyplot_api.html#matplotlib.pyplot.savefig) and matplotlib will save the figure in the output format based on the extension of the filename. To save to various formats, one would need to call this function several times or instead define a new function that can be included as boilerplate in the first cell of a notebook such as:"
   ]
  },
  {
   "cell_type": "code",
   "execution_count": 3,
   "metadata": {
    "collapsed": true
   },
   "outputs": [],
   "source": [
    "def save_to_file(filename, fig=None):\n",
    "    \"\"\"Save to @filename with a custom set of file formats.\n",
    "    \n",
    "    By default, this function takes to most recent figure,\n",
    "    but a @fig can also be passed to this function as an argument.\n",
    "    \"\"\"\n",
    "    formats = [\n",
    "                \"pdf\",\n",
    "                \"eps\",\n",
    "                \"png\",\n",
    "                \"pgf\",\n",
    "              ]\n",
    "    if fig is None:\n",
    "        for form in formats:\n",
    "            plt.savefig(\"%s.%s\"%(filename, form))\n",
    "    else:\n",
    "        for form in formats:\n",
    "            fig.savefig(\"%s.%s\"%(filename, form))"
   ]
  },
  {
   "cell_type": "markdown",
   "metadata": {},
   "source": [
    "And it can be easily saved with:"
   ]
  },
  {
   "cell_type": "code",
   "execution_count": 4,
   "metadata": {
    "collapsed": false
   },
   "outputs": [],
   "source": [
    "create_plot()\n",
    "save_to_file(\"simple_plot\")"
   ]
  },
  {
   "cell_type": "markdown",
   "metadata": {},
   "source": [
    "My choice of formats is to save in the png format to put this figure online such as on a web page and several scalable figure formats to include it in a pdf. I will write more on how to do that with [LaTeX](https://de.wikipedia.org/wiki/LaTeX) in a future blog post.\n",
    "\n",
    "The full notebook for creating the figure above and with the boilerplate in the first cell of the notebook can be found at [github](https://github.com/tomspur/blog/blob/master/posts/0001-publication-ready-figures-with-matplotlib-and-ipython-notebook/matplotlib_plots.ipynb)."
   ]
  },
  {
   "cell_type": "code",
   "execution_count": null,
   "metadata": {
    "collapsed": true
   },
   "outputs": [],
   "source": []
  }
 ],
 "metadata": {
  "kernelspec": {
   "display_name": "Python 2",
   "language": "python",
   "name": "python2"
  },
  "language_info": {
   "codemirror_mode": {
    "name": "ipython",
    "version": 2
   },
   "file_extension": ".py",
   "mimetype": "text/x-python",
   "name": "python",
   "nbconvert_exporter": "python",
   "pygments_lexer": "ipython2",
   "version": "2.7.10"
  }
 },
 "nbformat": 4,
 "nbformat_minor": 0
}
