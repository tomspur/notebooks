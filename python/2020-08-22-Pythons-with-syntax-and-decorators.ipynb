{
 "cells": [
  {
   "cell_type": "markdown",
   "metadata": {},
   "source": [
    "# Combining Python's with-syntax and decorators in a single class"
   ]
  },
  {
   "cell_type": "markdown",
   "metadata": {},
   "source": [
    "This notebook should show the differences between using a decorator and the with syntax in python. Both will be shown at the example of measuring the time that is required to execute a specific part of code."
   ]
  },
  {
   "cell_type": "markdown",
   "metadata": {},
   "source": [
    "## With-Syntax"
   ]
  },
  {
   "cell_type": "markdown",
   "metadata": {},
   "source": [
    "The [with syntax](https://www.python.org/dev/peps/pep-0343/) is very usefull especially in cases, where ressources are setup and are freed after their use, such as:\n",
    "1. [Opening / Closing files](https://www.python.org/dev/peps/pep-0343/#generator-decorator)\n",
    "2. Setting / releasing a lock or semaphore\n",
    "3. Ensuring a database commit and rolling back on an exception (see example 3 from [here](https://www.python.org/dev/peps/pep-0343/#examples))\n",
    "\n",
    "In order to implement them, there is already a ready to use [AbstractContextManager class](https://docs.python.org/3/library/contextlib.html#contextlib.AbstractContextManager) available, which just requires to implement a `__enter__` and `__exit__` method to implement e.g. a time keeper decorator:"
   ]
  },
  {
   "cell_type": "code",
   "execution_count": 1,
   "metadata": {},
   "outputs": [],
   "source": [
    "from contextlib import AbstractContextManager\n",
    "\n",
    "import time\n",
    "\n",
    "class TrackTime(AbstractContextManager):\n",
    "    def __init__(self):\n",
    "        pass\n",
    "    \n",
    "    def __enter__(self):\n",
    "        self.start_time = time.time()\n",
    "        \n",
    "    def __exit__(self, *args):\n",
    "        end_time = time.time()\n",
    "        print(f\"Total running time was: {end_time - self.start_time}\")"
   ]
  },
  {
   "cell_type": "code",
   "execution_count": 2,
   "metadata": {},
   "outputs": [
    {
     "name": "stdout",
     "output_type": "stream",
     "text": [
      "Total running time was: 2.0008251667022705\n"
     ]
    }
   ],
   "source": [
    "with TrackTime():\n",
    "    time.sleep(2)"
   ]
  },
  {
   "cell_type": "markdown",
   "metadata": {},
   "source": [
    "## Decorators"
   ]
  },
  {
   "cell_type": "markdown",
   "metadata": {},
   "source": [
    "A decorator can be used directly to annotate a function and achieve a similar result like above: Tracking the time of that function with a decorator:"
   ]
  },
  {
   "cell_type": "code",
   "execution_count": 3,
   "metadata": {},
   "outputs": [],
   "source": [
    "def tracktimefunction(func, *args, **kwargs):\n",
    "    def wrapping_function(*args, **kwargs):\n",
    "        start_time = time.time()\n",
    "\n",
    "        func(*args, **kwargs)\n",
    "\n",
    "        end_time = time.time()\n",
    "        print(f\"Total running time was: {end_time - start_time}\")\n",
    "        return\n",
    "    return wrapping_function"
   ]
  },
  {
   "cell_type": "code",
   "execution_count": 4,
   "metadata": {},
   "outputs": [
    {
     "name": "stdout",
     "output_type": "stream",
     "text": [
      "Total running time was: 2.0113117694854736\n"
     ]
    }
   ],
   "source": [
    "@tracktimefunction\n",
    "def wait_2s():\n",
    "    time.sleep(2)\n",
    "\n",
    "wait_2s()"
   ]
  },
  {
   "cell_type": "markdown",
   "metadata": {},
   "source": [
    "## Combining both approaches in a single class"
   ]
  },
  {
   "cell_type": "markdown",
   "metadata": {},
   "source": [
    "The decorator can be easily integrated into the same class from above that served the purpose to time the time of a specific section of the code with the with syntax. This can be achieved by making the class \"callable\". The method `__call__` will be responsible now for wrapping the function internally and it can be further simplified to use the with syntax with the class itself:"
   ]
  },
  {
   "cell_type": "code",
   "execution_count": 5,
   "metadata": {},
   "outputs": [],
   "source": [
    "from contextlib import AbstractContextManager\n",
    "\n",
    "import time\n",
    "\n",
    "class TrackTime(AbstractContextManager):\n",
    "    def __init__(self):\n",
    "        pass\n",
    "    \n",
    "    def __enter__(self):\n",
    "        self.start_time = time.time()\n",
    "        \n",
    "    def __exit__(self, *args):\n",
    "        end_time = time.time()\n",
    "        print(f\"Total running time was: {end_time - self.start_time}\")\n",
    "\n",
    "    def __call__(self, func, *args, **kwargs):\n",
    "        def wrapping_function(*args, **kwargs):\n",
    "            with self:\n",
    "                return func(*args, **kwargs)\n",
    "        return wrapping_function"
   ]
  },
  {
   "cell_type": "markdown",
   "metadata": {},
   "source": [
    "Now both, the decorator as well as the with syntax is possible within the same class:"
   ]
  },
  {
   "cell_type": "code",
   "execution_count": 6,
   "metadata": {},
   "outputs": [
    {
     "name": "stdout",
     "output_type": "stream",
     "text": [
      "Total running time was: 2.0006048679351807\n",
      "Total running time was: 3.0028138160705566\n"
     ]
    }
   ],
   "source": [
    "@TrackTime()\n",
    "def wait_2s():\n",
    "    time.sleep(2)\n",
    "\n",
    "wait_2s()\n",
    "\n",
    "with TrackTime():\n",
    "    time.sleep(3)"
   ]
  },
  {
   "cell_type": "code",
   "execution_count": null,
   "metadata": {},
   "outputs": [],
   "source": []
  }
 ],
 "metadata": {
  "kernelspec": {
   "display_name": "Python 3",
   "language": "python",
   "name": "python3"
  },
  "language_info": {
   "codemirror_mode": {
    "name": "ipython",
    "version": 3
   },
   "file_extension": ".py",
   "mimetype": "text/x-python",
   "name": "python",
   "nbconvert_exporter": "python",
   "pygments_lexer": "ipython3",
   "version": "3.7.8"
  }
 },
 "nbformat": 4,
 "nbformat_minor": 4
}
